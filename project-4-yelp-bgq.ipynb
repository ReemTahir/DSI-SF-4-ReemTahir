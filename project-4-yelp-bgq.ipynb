{
 "cells": [
  {
   "cell_type": "markdown",
   "metadata": {},
   "source": [
    "<img src=\"http://imgur.com/1ZcRyrc.png\" style=\"float: left; margin: 15px; height: 80px\">\n",
    "\n",
    "# Project 4\n",
    "\n",
    "###  Big Query, SQL, Classification\n",
    "\n",
    "---\n",
    "\n",
    "### The Data\n",
    "\n",
    "There are 5 individual tables that have the information, contained in a Google BigQuery database.  The setup info for BigQuery is located on our DSI wiki.  You will have to query with SQL, the dataset in order to complete this project.\n",
    "\n",
    "The tables, with cooresonding attributes that exist are:\n",
    "\n",
    "### businesses\n",
    "- business_id: unique business identifier\n",
    "- name: name of the business\n",
    "- review_count: number of reviews per business\n",
    "- city: city business resides in\n",
    "- stars: average rating\n",
    "- categories: categories the business falls into (can be one or multiple)\n",
    "- latitude\n",
    "- longitude\n",
    "- neighborhoods: neighborhoods business belongs to\n",
    "- variable: \"property\" of the business (a tag)\n",
    "- value: True/False for the property\n",
    "\n",
    "### reviews\n",
    "- user_id: unique user identifier\n",
    "- review_id: unique review identifier\n",
    "- votes.cool: how many thought the review was \"cool\"\n",
    "- business_id: unique business id the review is for\n",
    "- votes.funny: how many thought the review was funny\n",
    "- stars: rating given\n",
    "- date: date of review\n",
    "- votes.useful: how many thought the review was useful\n",
    "- ... 100 columns of counts of most common 2 word phrases that appear in reviews in this review\n",
    "\n",
    "### users\n",
    "- yelping_since: signup date\n",
    "- compliments.plain: # of compliments \"plain\"\n",
    "- review_count: # of reviews:\n",
    "- compliments.cute: total # of compliments \"cute\"\n",
    "- compliments.writer: # of compliments \"writer\"\n",
    "- compliments.note: # of compliments \"note\" (not sure what this is)\n",
    "- compliments.hot: # of compliments \"hot\" (?)\n",
    "- compliments.cool: # of compliments \"cool\"\n",
    "- compliments.profile: # of compliments \"profile\"\n",
    "- average_stars: average rating\n",
    "- compliments.more: # of compliments \"more\"\n",
    "- elite: years considered \"elite\"\n",
    "- name: user's name\n",
    "- user_id: unique user id\n",
    "- votes.cool: # of votes \"cool\"\n",
    "- compliments.list: # of compliments \"list\"\n",
    "- votes.funny: # of compliments \"funny\"\n",
    "- compliments.photos: # of compliments \"photos\"\n",
    "- compliments.funny: # of compliments \"funny\"\n",
    "- votes.useful: # of votes \"useful\"\n",
    "\n",
    "### checkins\n",
    "- business_id: unique business identifier\n",
    "- variable: day-time identifier of checkins (0-0 is Sunday 0:00 - 1:00am,  for example)\n",
    "- value: # of checkins at that time\n",
    "\n",
    "### tips\n",
    "- user_id: unique user identifier\n",
    "- business_id: unique business identifier\n",
    "- likes: likes that the tip has\n",
    "- date: date of tip\n",
    "- ... 100 columns of counts of most common 2 word phrases that appear in tips in this tip\n",
    "\n",
    "\n",
    "The reviews and tips datasets in particular have parsed \"NLP\" columns with counts of 2-word phrases in that review or tip (a \"tip\", it seems, is some kind of smaller review).\n",
    "\n",
    "The user dataset has a lot of columns of counts of different compliments and votes. We're not sure whether the compliments or votes are by the user or for the user.\n",
    "\n",
    "Full details about this dataset area located here:\n",
    "https://bigquery.cloud.google.com/dataset/bigquery-dsi-dave:yelp_arizona\n",
    "\n",
    "---\n",
    "\n",
    "\n",
    "If you look at the website, or the full data, you'll see I have removed pieces of the data and cut it down quite a bit. This is to simplify it for this project. Specifically, business are limited to be in these cities:\n",
    "\n",
    "- Phoenix\n",
    "- Surprise\n",
    "- Las Vegas\n",
    "- Waterloo\n",
    "\n",
    "Apparently there is a city called \"Surprise\" in Arizona. \n",
    "\n",
    "Businesses are also restricted to at least be in one of the following categories, because we thought the mix of them was funny:\n",
    "\n",
    "- Airports\n",
    "- Breakfast & Brunch\n",
    "- Bubble Tea\n",
    "- Burgers\n",
    "- Bars\n",
    "- Bakeries\n",
    "- Breweries\n",
    "- Cafes\n",
    "- Candy Stores\n",
    "- Comedy Clubs\n",
    "- Courthouses\n",
    "- Dance Clubs\n",
    "- Fast Food\n",
    "- Museums\n",
    "- Tattoo\n",
    "- Vape Shops\n",
    "- Yoga\n",
    "    \n",
    "---\n",
    "\n",
    "### Project requirements\n",
    "\n",
    "**You will be performing 4 different sections of analysis, like in the last project.**\n",
    "\n",
    "Remember that classification targets are categorical and regression targets are continuous variables."
   ]
  },
  {
   "cell_type": "markdown",
   "metadata": {},
   "source": [
    "<img src=\"http://imgur.com/l5NasQj.png\" style=\"float: left; margin: 25px 15px 0px 0px; height: 25px\">\n",
    "\n",
    "## 1. Load your dataset(s) / setup / configure GBQ connection\n",
    "\n",
    "---\n",
    "\n",
    "Information about this dataset is located here:\n",
    "\n",
    "\n",
    "**If you haven't done so, setup a project with the Google developer portal, following the directions here: [Getting Started with BigQuery](https://github.com/ga-students/DSI-SF-4/wiki/Getting-Started-with-BigQuery)**"
   ]
  },
  {
   "cell_type": "code",
   "execution_count": 105,
   "metadata": {
    "collapsed": false
   },
   "outputs": [
    {
     "name": "stdout",
     "output_type": "stream",
     "text": [
      "Requesting query... ok.\n",
      "Query running...\n",
      "Query done.\n",
      "Cache hit.\n",
      "\n",
      "Retrieving results...\n",
      "Got 2500 rows.\n",
      "\n",
      "Total time taken 5.27 s.\n",
      "Finished at 2016-12-20 08:18:45.\n"
     ]
    }
   ],
   "source": [
    "import pandas as pd\n",
    "import seaborn as sns\n",
    "import numpy as np #we needed to add this\n",
    "import patsy #patsy doesn't get a cool nickname\n",
    "from sklearn.preprocessing import StandardScaler #added\n",
    "from sklearn.neighbors import KNeighborsClassifier #K-neighbors classifier added\n",
    "from sklearn.grid_search import GridSearchCV      #GridsearchCv added\n",
    "from sklearn.cross_validation import cross_val_score, cross_val_predict\n",
    "from sklearn import metrics\n",
    "from sklearn.metrics import roc_curve, auc\n",
    "\n",
    "\n",
    "%matplotlib inline\n",
    "\n",
    "project_id = \"eternal-respect-151718\"\n",
    "\n",
    "sql = \"\"\"\n",
    "SELECT * FROM [bigquery-dsi-dave:yelp_arizona.reviews] \n",
    "LIMIT 2500\n",
    "\"\"\"\n",
    "\n",
    "df = pd.read_gbq(sql, project_id=project_id)"
   ]
  },
  {
   "cell_type": "code",
   "execution_count": 3,
   "metadata": {
    "collapsed": false
   },
   "outputs": [
    {
     "data": {
      "text/plain": [
       "Index([u'user_id', u'review_id', u'votes_cool', u'business_id', u'votes_funny',\n",
       "       u'stars', u'date', u'votes_useful', u'minutes_10', u'minutes_15',\n",
       "       ...\n",
       "       u'service_great', u'staff_friendly', u'super_friendly', u'sweet_potato',\n",
       "       u'tasted_like', u'time_vegas', u'try_place', u've_seen', u've_tried',\n",
       "       u'wait_staff'],\n",
       "      dtype='object', length=108)"
      ]
     },
     "execution_count": 3,
     "metadata": {},
     "output_type": "execute_result"
    }
   ],
   "source": [
    "df.columns"
   ]
  },
  {
   "cell_type": "code",
   "execution_count": null,
   "metadata": {
    "collapsed": true
   },
   "outputs": [],
   "source": []
  },
  {
   "cell_type": "markdown",
   "metadata": {
    "collapsed": true
   },
   "source": []
  },
  {
   "cell_type": "code",
   "execution_count": 13,
   "metadata": {
    "collapsed": false
   },
   "outputs": [
    {
     "data": {
      "text/html": [
       "<div>\n",
       "<table border=\"1\" class=\"dataframe\">\n",
       "  <thead>\n",
       "    <tr style=\"text-align: right;\">\n",
       "      <th></th>\n",
       "      <th>user_id</th>\n",
       "      <th>review_id</th>\n",
       "      <th>votes_cool</th>\n",
       "      <th>business_id</th>\n",
       "      <th>votes_funny</th>\n",
       "      <th>stars</th>\n",
       "      <th>date</th>\n",
       "      <th>votes_useful</th>\n",
       "      <th>minutes_10</th>\n",
       "      <th>minutes_15</th>\n",
       "      <th>...</th>\n",
       "      <th>service_great</th>\n",
       "      <th>staff_friendly</th>\n",
       "      <th>super_friendly</th>\n",
       "      <th>sweet_potato</th>\n",
       "      <th>tasted_like</th>\n",
       "      <th>time_vegas</th>\n",
       "      <th>try_place</th>\n",
       "      <th>ve_seen</th>\n",
       "      <th>ve_tried</th>\n",
       "      <th>wait_staff</th>\n",
       "    </tr>\n",
       "  </thead>\n",
       "  <tbody>\n",
       "    <tr>\n",
       "      <th>0</th>\n",
       "      <td>-ZWUL1xfFP-WA9iS87S8hQ</td>\n",
       "      <td>UOQie6_QAJ8hjceRYk5BXg</td>\n",
       "      <td>0</td>\n",
       "      <td>P7wKlbSRsoRrfH3DFOY08A</td>\n",
       "      <td>0</td>\n",
       "      <td>1</td>\n",
       "      <td>2014-09-08</td>\n",
       "      <td>0</td>\n",
       "      <td>0</td>\n",
       "      <td>0</td>\n",
       "      <td>...</td>\n",
       "      <td>0</td>\n",
       "      <td>0</td>\n",
       "      <td>0</td>\n",
       "      <td>0</td>\n",
       "      <td>0</td>\n",
       "      <td>0</td>\n",
       "      <td>0</td>\n",
       "      <td>0</td>\n",
       "      <td>0</td>\n",
       "      <td>0</td>\n",
       "    </tr>\n",
       "    <tr>\n",
       "      <th>1</th>\n",
       "      <td>lqXbPv5vlD5fu0TU_71AGQ</td>\n",
       "      <td>pb0yWYEyXqe80w-rf69NjA</td>\n",
       "      <td>0</td>\n",
       "      <td>oCA2OZcd_Jo_ggVmUx3WVw</td>\n",
       "      <td>0</td>\n",
       "      <td>1</td>\n",
       "      <td>2014-11-28</td>\n",
       "      <td>0</td>\n",
       "      <td>0</td>\n",
       "      <td>0</td>\n",
       "      <td>...</td>\n",
       "      <td>0</td>\n",
       "      <td>0</td>\n",
       "      <td>0</td>\n",
       "      <td>0</td>\n",
       "      <td>0</td>\n",
       "      <td>0</td>\n",
       "      <td>0</td>\n",
       "      <td>0</td>\n",
       "      <td>0</td>\n",
       "      <td>0</td>\n",
       "    </tr>\n",
       "    <tr>\n",
       "      <th>2</th>\n",
       "      <td>vW8aeiByI-cAiamhenoSYA</td>\n",
       "      <td>RAgW45ub6iaFyZPCnI2mdw</td>\n",
       "      <td>0</td>\n",
       "      <td>hzUOqxpcnYYBgLlrgvjQYQ</td>\n",
       "      <td>0</td>\n",
       "      <td>1</td>\n",
       "      <td>2011-10-24</td>\n",
       "      <td>0</td>\n",
       "      <td>0</td>\n",
       "      <td>0</td>\n",
       "      <td>...</td>\n",
       "      <td>0</td>\n",
       "      <td>0</td>\n",
       "      <td>0</td>\n",
       "      <td>0</td>\n",
       "      <td>0</td>\n",
       "      <td>0</td>\n",
       "      <td>0</td>\n",
       "      <td>0</td>\n",
       "      <td>0</td>\n",
       "      <td>1</td>\n",
       "    </tr>\n",
       "  </tbody>\n",
       "</table>\n",
       "<p>3 rows × 108 columns</p>\n",
       "</div>"
      ],
      "text/plain": [
       "                  user_id               review_id  votes_cool  \\\n",
       "0  -ZWUL1xfFP-WA9iS87S8hQ  UOQie6_QAJ8hjceRYk5BXg           0   \n",
       "1  lqXbPv5vlD5fu0TU_71AGQ  pb0yWYEyXqe80w-rf69NjA           0   \n",
       "2  vW8aeiByI-cAiamhenoSYA  RAgW45ub6iaFyZPCnI2mdw           0   \n",
       "\n",
       "              business_id  votes_funny stars        date  votes_useful  \\\n",
       "0  P7wKlbSRsoRrfH3DFOY08A            0     1  2014-09-08             0   \n",
       "1  oCA2OZcd_Jo_ggVmUx3WVw            0     1  2014-11-28             0   \n",
       "2  hzUOqxpcnYYBgLlrgvjQYQ            0     1  2011-10-24             0   \n",
       "\n",
       "   minutes_10  minutes_15     ...      service_great staff_friendly  \\\n",
       "0           0           0     ...                  0              0   \n",
       "1           0           0     ...                  0              0   \n",
       "2           0           0     ...                  0              0   \n",
       "\n",
       "   super_friendly  sweet_potato  tasted_like  time_vegas  try_place  ve_seen  \\\n",
       "0               0             0            0           0          0        0   \n",
       "1               0             0            0           0          0        0   \n",
       "2               0             0            0           0          0        0   \n",
       "\n",
       "   ve_tried  wait_staff  \n",
       "0         0           0  \n",
       "1         0           0  \n",
       "2         0           1  \n",
       "\n",
       "[3 rows x 108 columns]"
      ]
     },
     "execution_count": 13,
     "metadata": {},
     "output_type": "execute_result"
    }
   ],
   "source": [
    "#Let's look at the data. So here we see a lot of superfluous information, but not enough relevant info. \n",
    "df.head(3)"
   ]
  },
  {
   "cell_type": "code",
   "execution_count": 27,
   "metadata": {
    "collapsed": false
   },
   "outputs": [
    {
     "name": "stdout",
     "output_type": "stream",
     "text": [
      "Requesting query... ok.\n",
      "Query running...\n",
      "Query done.\n",
      "Processed: 25.2 Mb\n",
      "\n",
      "Retrieving results...\n",
      "  Got page: 1; 21.0% done. Elapsed 9.12 s.\n",
      "  Got page: 2; 42.0% done. Elapsed 15.71 s.\n",
      "  Got page: 3; 62.0% done. Elapsed 20.46 s.\n",
      "  Got page: 4; 83.0% done. Elapsed 25.87 s.\n",
      "  Got page: 5; 100.0% done. Elapsed 30.55 s.\n",
      "Got 152832 rows.\n",
      "\n",
      "Total time taken 35.23 s.\n",
      "Finished at 2016-12-20 07:30:31.\n"
     ]
    }
   ],
   "source": [
    "sql = \"\"\"\n",
    "SELECT * FROM [bigquery-dsi-dave:yelp_arizona.businesses] \n",
    "\n",
    "\"\"\"\n",
    "\n",
    "biz_df = pd.read_gbq(sql, project_id=project_id)"
   ]
  },
  {
   "cell_type": "code",
   "execution_count": 28,
   "metadata": {
    "collapsed": false,
    "scrolled": false
   },
   "outputs": [
    {
     "data": {
      "text/html": [
       "<div>\n",
       "<table border=\"1\" class=\"dataframe\">\n",
       "  <thead>\n",
       "    <tr style=\"text-align: right;\">\n",
       "      <th></th>\n",
       "      <th>business_id</th>\n",
       "      <th>name</th>\n",
       "      <th>review_count</th>\n",
       "      <th>city</th>\n",
       "      <th>stars</th>\n",
       "      <th>categories</th>\n",
       "      <th>latitude</th>\n",
       "      <th>longitude</th>\n",
       "      <th>neighborhoods</th>\n",
       "      <th>variable</th>\n",
       "      <th>value</th>\n",
       "    </tr>\n",
       "  </thead>\n",
       "  <tbody>\n",
       "    <tr>\n",
       "      <th>0</th>\n",
       "      <td>XziiAJUc8cgj3McljtnYVw</td>\n",
       "      <td>Johnny Rockets</td>\n",
       "      <td>39</td>\n",
       "      <td>Las Vegas</td>\n",
       "      <td>3.0</td>\n",
       "      <td>['Burgers', 'American (Traditional)', 'Sandwic...</td>\n",
       "      <td>36.114471</td>\n",
       "      <td>-115.169292</td>\n",
       "      <td>['The Strip']</td>\n",
       "      <td>attributes.Ambience.trendy</td>\n",
       "      <td>False</td>\n",
       "    </tr>\n",
       "  </tbody>\n",
       "</table>\n",
       "</div>"
      ],
      "text/plain": [
       "              business_id            name  review_count       city  stars  \\\n",
       "0  XziiAJUc8cgj3McljtnYVw  Johnny Rockets            39  Las Vegas    3.0   \n",
       "\n",
       "                                          categories   latitude   longitude  \\\n",
       "0  ['Burgers', 'American (Traditional)', 'Sandwic...  36.114471 -115.169292   \n",
       "\n",
       "   neighborhoods                    variable  value  \n",
       "0  ['The Strip']  attributes.Ambience.trendy  False  "
      ]
     },
     "execution_count": 28,
     "metadata": {},
     "output_type": "execute_result"
    }
   ],
   "source": [
    "biz_df.head(1) #The business table has more relevant information"
   ]
  },
  {
   "cell_type": "code",
   "execution_count": 29,
   "metadata": {
    "collapsed": false
   },
   "outputs": [
    {
     "data": {
      "text/plain": [
       "business_id      0\n",
       "name             0\n",
       "review_count     0\n",
       "city             0\n",
       "stars            0\n",
       "categories       0\n",
       "latitude         0\n",
       "longitude        0\n",
       "neighborhoods    0\n",
       "variable         0\n",
       "value            0\n",
       "dtype: int64"
      ]
     },
     "execution_count": 29,
     "metadata": {},
     "output_type": "execute_result"
    }
   ],
   "source": [
    "biz_df.isnull().sum() #Just checking to make sure there are no null entries"
   ]
  },
  {
   "cell_type": "code",
   "execution_count": 30,
   "metadata": {
    "collapsed": false,
    "scrolled": true
   },
   "outputs": [
    {
     "name": "stdout",
     "output_type": "stream",
     "text": [
      "<class 'pandas.core.frame.DataFrame'>\n",
      "RangeIndex: 152832 entries, 0 to 152831\n",
      "Data columns (total 11 columns):\n",
      "business_id      152832 non-null object\n",
      "name             152832 non-null object\n",
      "review_count     152832 non-null int64\n",
      "city             152832 non-null object\n",
      "stars            152832 non-null float64\n",
      "categories       152832 non-null object\n",
      "latitude         152832 non-null float64\n",
      "longitude        152832 non-null float64\n",
      "neighborhoods    152832 non-null object\n",
      "variable         152832 non-null object\n",
      "value            152832 non-null bool\n",
      "dtypes: bool(1), float64(3), int64(1), object(6)\n",
      "memory usage: 11.8+ MB\n"
     ]
    }
   ],
   "source": [
    "biz_df.info() #checking what data types and counts we're dealing with"
   ]
  },
  {
   "cell_type": "code",
   "execution_count": 31,
   "metadata": {
    "collapsed": false,
    "scrolled": true
   },
   "outputs": [
    {
     "name": "stdout",
     "output_type": "stream",
     "text": [
      "Requesting query... ok.\n",
      "Query running...\n",
      "Query done.\n",
      "Cache hit.\n",
      "\n",
      "Retrieving results...\n",
      "  Got page: 2; 23.0% done. Elapsed 11.89 s.\n",
      "  Got page: 3; 35.0% done. Elapsed 16.99 s.\n",
      "  Got page: 4; 46.0% done. Elapsed 21.36 s.\n",
      "  Got page: 5; 58.0% done. Elapsed 25.83 s.\n",
      "  Got page: 6; 69.0% done. Elapsed 30.33 s.\n",
      "  Got page: 7; 81.0% done. Elapsed 35.39 s.\n",
      "  Got page: 8; 92.0% done. Elapsed 40.71 s.\n",
      "  Got page: 9; 100.0% done. Elapsed 43.85 s.\n",
      "Got 144206 rows.\n",
      "\n",
      "Total time taken 50.55 s.\n",
      "Finished at 2016-12-20 07:32:06.\n"
     ]
    }
   ],
   "source": [
    "#Checking other tables\n",
    "sql = \"\"\"\n",
    "SELECT * FROM [bigquery-dsi-dave:yelp_arizona.users] \n",
    "\n",
    "\"\"\"\n",
    "\n",
    "users_df = pd.read_gbq(sql, project_id=project_id)"
   ]
  },
  {
   "cell_type": "code",
   "execution_count": 32,
   "metadata": {
    "collapsed": false
   },
   "outputs": [
    {
     "name": "stdout",
     "output_type": "stream",
     "text": [
      "Requesting query... ok.\n",
      "Query running...\n",
      "Query done.\n",
      "Cache hit.\n",
      "\n",
      "Retrieving results...\n",
      "Got 2500 rows.\n",
      "\n",
      "Total time taken 6.58 s.\n",
      "Finished at 2016-12-20 07:32:13.\n"
     ]
    }
   ],
   "source": [
    "sql = \"\"\"\n",
    "SELECT * FROM [bigquery-dsi-dave:yelp_arizona.tips] \n",
    "LIMIT 2500\n",
    "\"\"\"\n",
    "\n",
    "tips_df = pd.read_gbq(sql, project_id=project_id)"
   ]
  },
  {
   "cell_type": "code",
   "execution_count": 56,
   "metadata": {
    "collapsed": false
   },
   "outputs": [
    {
     "data": {
      "text/html": [
       "<div>\n",
       "<table border=\"1\" class=\"dataframe\">\n",
       "  <thead>\n",
       "    <tr style=\"text-align: right;\">\n",
       "      <th>variable</th>\n",
       "      <th>business_id</th>\n",
       "      <th>city</th>\n",
       "      <th>attributes.Accepts Credit Cards</th>\n",
       "      <th>attributes.Accepts Insurance</th>\n",
       "      <th>attributes.Ages Allowed</th>\n",
       "      <th>attributes.Alcohol</th>\n",
       "      <th>attributes.Ambience.casual</th>\n",
       "      <th>attributes.Ambience.classy</th>\n",
       "      <th>attributes.Ambience.divey</th>\n",
       "      <th>attributes.Ambience.hipster</th>\n",
       "      <th>...</th>\n",
       "      <th>hours.Saturday.open</th>\n",
       "      <th>hours.Sunday.close</th>\n",
       "      <th>hours.Sunday.open</th>\n",
       "      <th>hours.Thursday.close</th>\n",
       "      <th>hours.Thursday.open</th>\n",
       "      <th>hours.Tuesday.close</th>\n",
       "      <th>hours.Tuesday.open</th>\n",
       "      <th>hours.Wednesday.close</th>\n",
       "      <th>hours.Wednesday.open</th>\n",
       "      <th>open</th>\n",
       "    </tr>\n",
       "  </thead>\n",
       "  <tbody>\n",
       "    <tr>\n",
       "      <th>4130</th>\n",
       "      <td>zvvCrwrr4VGz-D9GtMhDGQ</td>\n",
       "      <td>Phoenix</td>\n",
       "      <td>True</td>\n",
       "      <td>None</td>\n",
       "      <td>None</td>\n",
       "      <td>False</td>\n",
       "      <td>False</td>\n",
       "      <td>False</td>\n",
       "      <td>False</td>\n",
       "      <td>False</td>\n",
       "      <td>...</td>\n",
       "      <td>None</td>\n",
       "      <td>None</td>\n",
       "      <td>None</td>\n",
       "      <td>None</td>\n",
       "      <td>None</td>\n",
       "      <td>None</td>\n",
       "      <td>None</td>\n",
       "      <td>None</td>\n",
       "      <td>None</td>\n",
       "      <td>True</td>\n",
       "    </tr>\n",
       "    <tr>\n",
       "      <th>4131</th>\n",
       "      <td>zwHM6hz8swKIG-4-BSKMPA</td>\n",
       "      <td>Phoenix</td>\n",
       "      <td>True</td>\n",
       "      <td>None</td>\n",
       "      <td>None</td>\n",
       "      <td>False</td>\n",
       "      <td>False</td>\n",
       "      <td>False</td>\n",
       "      <td>False</td>\n",
       "      <td>False</td>\n",
       "      <td>...</td>\n",
       "      <td>None</td>\n",
       "      <td>None</td>\n",
       "      <td>None</td>\n",
       "      <td>None</td>\n",
       "      <td>None</td>\n",
       "      <td>None</td>\n",
       "      <td>None</td>\n",
       "      <td>None</td>\n",
       "      <td>None</td>\n",
       "      <td>False</td>\n",
       "    </tr>\n",
       "  </tbody>\n",
       "</table>\n",
       "<p>2 rows × 80 columns</p>\n",
       "</div>"
      ],
      "text/plain": [
       "variable             business_id     city attributes.Accepts Credit Cards  \\\n",
       "4130      zvvCrwrr4VGz-D9GtMhDGQ  Phoenix                            True   \n",
       "4131      zwHM6hz8swKIG-4-BSKMPA  Phoenix                            True   \n",
       "\n",
       "variable attributes.Accepts Insurance attributes.Ages Allowed  \\\n",
       "4130                             None                    None   \n",
       "4131                             None                    None   \n",
       "\n",
       "variable attributes.Alcohol attributes.Ambience.casual  \\\n",
       "4130                  False                      False   \n",
       "4131                  False                      False   \n",
       "\n",
       "variable attributes.Ambience.classy attributes.Ambience.divey  \\\n",
       "4130                          False                     False   \n",
       "4131                          False                     False   \n",
       "\n",
       "variable attributes.Ambience.hipster  ...   hours.Saturday.open  \\\n",
       "4130                           False  ...                  None   \n",
       "4131                           False  ...                  None   \n",
       "\n",
       "variable hours.Sunday.close hours.Sunday.open hours.Thursday.close  \\\n",
       "4130                   None              None                 None   \n",
       "4131                   None              None                 None   \n",
       "\n",
       "variable hours.Thursday.open hours.Tuesday.close hours.Tuesday.open  \\\n",
       "4130                    None                None               None   \n",
       "4131                    None                None               None   \n",
       "\n",
       "variable hours.Wednesday.close hours.Wednesday.open   open  \n",
       "4130                      None                 None   True  \n",
       "4131                      None                 None  False  \n",
       "\n",
       "[2 rows x 80 columns]"
      ]
     },
     "execution_count": 56,
     "metadata": {},
     "output_type": "execute_result"
    }
   ],
   "source": [
    "#We changed the format of the business table to wide \n",
    "biz_wide = pd.pivot_table(biz_df, index=['business_id','city'], columns='variable', values='value').reset_index()\n",
    "biz_wide.tail(2)"
   ]
  },
  {
   "cell_type": "code",
   "execution_count": 40,
   "metadata": {
    "collapsed": false
   },
   "outputs": [],
   "source": [
    "biz_wide_col = [col for col in biz_wide.columns if sum(biz_wide[col].isnull()) < 2000]\n",
    "\n",
    "biz_wide = biz_wide[biz_wide_col]\n",
    "\n",
    "#Ughh and now the cleaning begins..."
   ]
  },
  {
   "cell_type": "code",
   "execution_count": 42,
   "metadata": {
    "collapsed": false
   },
   "outputs": [],
   "source": [
    "biz_wide.rename(columns=lambda x: x.replace(' ', '_'), inplace=True)\n",
    "biz_wide.rename(columns=lambda x: x.replace('attributes', ''), inplace=True)\n",
    "biz_wide.rename(columns=lambda x: x.replace('.', ''), inplace=True)\n",
    "biz_wide.rename(columns=lambda x: x.replace('-', '_'), inplace=True)"
   ]
  },
  {
   "cell_type": "code",
   "execution_count": 43,
   "metadata": {
    "collapsed": false,
    "scrolled": false
   },
   "outputs": [
    {
     "name": "stdout",
     "output_type": "stream",
     "text": [
      "<class 'pandas.core.frame.DataFrame'>\n",
      "RangeIndex: 4132 entries, 0 to 4131\n",
      "Data columns (total 51 columns):\n",
      "business_id             4132 non-null object\n",
      "city                    4132 non-null object\n",
      "Accepts_Credit_Cards    3896 non-null object\n",
      "Alcohol                 3050 non-null object\n",
      "Ambiencecasual          2873 non-null object\n",
      "Ambienceclassy          2873 non-null object\n",
      "Ambiencedivey           2864 non-null object\n",
      "Ambiencehipster         2871 non-null object\n",
      "Ambienceintimate        2873 non-null object\n",
      "Ambienceromantic        2873 non-null object\n",
      "Ambiencetouristy        2873 non-null object\n",
      "Ambiencetrendy          2873 non-null object\n",
      "Ambienceupscale         2866 non-null object\n",
      "Attire                  2650 non-null object\n",
      "Delivery                2777 non-null object\n",
      "Good_For_Groups         3362 non-null object\n",
      "Good_Forbreakfast       2508 non-null object\n",
      "Good_Forbrunch          2503 non-null object\n",
      "Good_Fordessert         2502 non-null object\n",
      "Good_Fordinner          2507 non-null object\n",
      "Good_Forlatenight       2507 non-null object\n",
      "Good_Forlunch           2507 non-null object\n",
      "Good_for_Kids           2909 non-null object\n",
      "Has_TV                  3084 non-null object\n",
      "Noise_Level             2805 non-null object\n",
      "Outdoor_Seating         3267 non-null object\n",
      "Parkinggarage           3427 non-null object\n",
      "Parkinglot              3427 non-null object\n",
      "Parkingstreet           3427 non-null object\n",
      "Parkingvalet            3427 non-null object\n",
      "Parkingvalidated        3427 non-null object\n",
      "Price_Range             3843 non-null object\n",
      "Take_out                2667 non-null object\n",
      "Takes_Reservations      2653 non-null object\n",
      "Waiter_Service          2360 non-null object\n",
      "Wi_Fi                   2176 non-null object\n",
      "hoursFridayclose        2518 non-null object\n",
      "hoursFridayopen         2518 non-null object\n",
      "hoursMondayclose        2325 non-null object\n",
      "hoursMondayopen         2325 non-null object\n",
      "hoursSaturdayclose      2464 non-null object\n",
      "hoursSaturdayopen       2464 non-null object\n",
      "hoursSundayclose        2194 non-null object\n",
      "hoursSundayopen         2194 non-null object\n",
      "hoursThursdayclose      2489 non-null object\n",
      "hoursThursdayopen       2489 non-null object\n",
      "hoursTuesdayclose       2433 non-null object\n",
      "hoursTuesdayopen        2433 non-null object\n",
      "hoursWednesdayclose     2464 non-null object\n",
      "hoursWednesdayopen      2464 non-null object\n",
      "open                    4132 non-null object\n",
      "dtypes: object(51)\n",
      "memory usage: 1.6+ MB\n"
     ]
    }
   ],
   "source": [
    "biz_wide.info() #yikes, we're going to need to drop some values\n",
    "                #I will resist dropping entire rows out of sheer laziness.\n",
    "                #But I will drop useless variables"
   ]
  },
  {
   "cell_type": "code",
   "execution_count": 44,
   "metadata": {
    "collapsed": true
   },
   "outputs": [],
   "source": [
    "#I got rid of the hours of operation because they are not useful.\n",
    "#ex. 'hoursWednesdayopen' and 'hoursWednesdayclose' have the same None response.\n",
    "biz_wide.dropna(axis=0, how='any', thresh=None, subset=None, inplace=True)\n",
    "biz_wide.drop(['hoursFridayclose','hoursFridayopen', 'hoursMondayclose', 'hoursMondayopen',\n",
    "                   'hoursSaturdayclose', 'hoursSaturdayopen', 'hoursSundayclose', 'hoursSundayopen', \n",
    "                   'hoursThursdayclose', 'hoursThursdayopen', 'hoursTuesdayclose', 'hoursTuesdayopen', \n",
    "                   'hoursWednesdayclose', 'hoursWednesdayopen'], axis=1, inplace=True)"
   ]
  },
  {
   "cell_type": "markdown",
   "metadata": {
    "collapsed": true
   },
   "source": [
    "<img src=\"http://imgur.com/l5NasQj.png\" style=\"float: left; margin: 25px 15px 0px 0px; height: 25px\">\n",
    "\n",
    "## 2. Constructing a \"profile\" for Las Vegas\n",
    "\n",
    "---\n",
    "\n",
    "Yelp is interested in building out what they are calling \"profiles\" for cities. They want you to start with just Las Vegas to see what a prototype of this would look like. Essentially, they want to know what makes Las Vegas distinct from the other four.\n",
    "\n",
    "Use the data you have to predict Las Vegas from the other variables you have. You should not be predicting the city from any kind of location data or other data perfectly associated with that city (or another city).\n",
    "\n",
    "You may use any classification algorithm you deem appropriate, or even multiple models. You should:\n",
    "\n",
    "1. Build at least one model predicting Las Vegas vs. the other cities.\n",
    "- Validate your model(s).\n",
    "- Interpret and visualize, in some way, the results.\n",
    "- Write up a \"profile\" for Las Vegas. This should be a writeup converting your findings from the model(s) into a human-readable description of the city.\n",
    "\n",
    "*Research location data to find the city targets.*"
   ]
  },
  {
   "cell_type": "markdown",
   "metadata": {
    "collapsed": true
   },
   "source": [
    "1.Build at least one model predicting Las Vegas vs. the other cities."
   ]
  },
  {
   "cell_type": "code",
   "execution_count": 57,
   "metadata": {
    "collapsed": false
   },
   "outputs": [
    {
     "name": "stdout",
     "output_type": "stream",
     "text": [
      " ~ attributes.Accepts Credit Cards + attributes.Accepts Insurance + attributes.Ages Allowed + attributes.Alcohol + attributes.Ambience.casual + attributes.Ambience.classy + attributes.Ambience.divey + attributes.Ambience.hipster + attributes.Ambience.intimate + attributes.Ambience.romantic + attributes.Ambience.touristy + attributes.Ambience.trendy + attributes.Ambience.upscale + attributes.Attire + attributes.BYOB + attributes.BYOB/Corkage + attributes.By Appointment Only + attributes.Caters + attributes.Coat Check + attributes.Corkage + attributes.Delivery + attributes.Dietary Restrictions.dairy-free + attributes.Dietary Restrictions.gluten-free + attributes.Dietary Restrictions.halal + attributes.Dietary Restrictions.kosher + attributes.Dietary Restrictions.soy-free + attributes.Dietary Restrictions.vegan + attributes.Dietary Restrictions.vegetarian + attributes.Dogs Allowed + attributes.Drive-Thru + attributes.Good For Dancing + attributes.Good For Groups + attributes.Good For.breakfast + attributes.Good For.brunch + attributes.Good For.dessert + attributes.Good For.dinner + attributes.Good For.latenight + attributes.Good For.lunch + attributes.Good for Kids + attributes.Happy Hour + attributes.Has TV + attributes.Music.background_music + attributes.Music.dj + attributes.Music.jukebox + attributes.Music.karaoke + attributes.Music.live + attributes.Music.video + attributes.Noise Level + attributes.Open 24 Hours + attributes.Order at Counter + attributes.Outdoor Seating + attributes.Parking.garage + attributes.Parking.lot + attributes.Parking.street + attributes.Parking.valet + attributes.Parking.validated + attributes.Price Range + attributes.Smoking + attributes.Take-out + attributes.Takes Reservations + attributes.Waiter Service + attributes.Wheelchair Accessible + attributes.Wi-Fi + hours.Friday.close + hours.Friday.open + hours.Monday.close + hours.Monday.open + hours.Saturday.close + hours.Saturday.open + hours.Sunday.close + hours.Sunday.open + hours.Thursday.close + hours.Thursday.open + hours.Tuesday.close + hours.Tuesday.open + hours.Wednesday.close + hours.Wednesday.open + open -1\n"
     ]
    }
   ],
   "source": [
    "formula = \" ~ \"+' + '.join([x for x in biz_wide.columns if not x in ['business_id','city']])+' -1'\n",
    "print formula"
   ]
  },
  {
   "cell_type": "code",
   "execution_count": 99,
   "metadata": {
    "collapsed": false,
    "scrolled": true
   },
   "outputs": [],
   "source": [
    "#cutting and pasting the above (erasing attributes.) to retrieve the following:\n",
    "formula = 'city ~ Accepts_Credit_Cards + Alcohol + Ambiencecasual + Ambienceclassy + Ambiencedivey + Ambiencehipster + Ambienceintimate + Ambienceromantic + Ambiencetouristy + Ambiencetrendy + Ambienceupscale + Attire + Delivery + Good_For_Groups + Good_Forbreakfast + Good_Forbrunch + Good_Fordessert + Good_Fordinner + Good_Forlatenight + Good_Forlunch + Good_for_Kids + Has_TV + Noise_Level + Outdoor_Seating + Parkinggarage + Parkinglot + Parkingstreet + Parkingvalet + Parkingvalidated + Price_Range + Take_out + Takes_Reservations + Waiter_Service + Wi_Fi + open - 1'"
   ]
  },
  {
   "cell_type": "code",
   "execution_count": 101,
   "metadata": {
    "collapsed": false,
    "scrolled": true
   },
   "outputs": [
    {
     "ename": "NameError",
     "evalue": "name 'Take_out' is not defined",
     "output_type": "error",
     "traceback": [
      "\u001b[0;31m---------------------------------------------------------------------------\u001b[0m",
      "\u001b[0;31mNameError\u001b[0m                                 Traceback (most recent call last)",
      "\u001b[0;32m<ipython-input-101-7f1fdc3ebcb1>\u001b[0m in \u001b[0;36m<module>\u001b[0;34m()\u001b[0m\n\u001b[0;32m----> 1\u001b[0;31m \u001b[0my\u001b[0m\u001b[0;34m,\u001b[0m \u001b[0mX\u001b[0m \u001b[0;34m=\u001b[0m \u001b[0mpatsy\u001b[0m\u001b[0;34m.\u001b[0m\u001b[0mdmatrices\u001b[0m\u001b[0;34m(\u001b[0m\u001b[0mformula\u001b[0m\u001b[0;34m,\u001b[0m \u001b[0mdata\u001b[0m\u001b[0;34m=\u001b[0m\u001b[0mbiz_wide\u001b[0m\u001b[0;34m,\u001b[0m \u001b[0mreturn_type\u001b[0m\u001b[0;34m=\u001b[0m\u001b[0;34m'dataframe'\u001b[0m\u001b[0;34m)\u001b[0m\u001b[0;34m\u001b[0m\u001b[0m\n\u001b[0m\u001b[1;32m      2\u001b[0m \u001b[0my\u001b[0m \u001b[0;34m=\u001b[0m \u001b[0mnp\u001b[0m\u001b[0;34m.\u001b[0m\u001b[0mravel\u001b[0m\u001b[0;34m(\u001b[0m\u001b[0my\u001b[0m\u001b[0;34m)\u001b[0m\u001b[0;34m\u001b[0m\u001b[0m\n\u001b[1;32m      3\u001b[0m \u001b[0;31m#Whyyy?? The error below says it's the variable name that is undefined, when I took out the variable\u001b[0m\u001b[0;34m\u001b[0m\u001b[0;34m\u001b[0m\u001b[0m\n\u001b[1;32m      4\u001b[0m \u001b[0;31m#it kept asking me to remove more and more until I didn't have any left.\u001b[0m\u001b[0;34m\u001b[0m\u001b[0;34m\u001b[0m\u001b[0m\n",
      "\u001b[0;32m/Users/reemtahir/anaconda/lib/python2.7/site-packages/patsy/highlevel.pyc\u001b[0m in \u001b[0;36mdmatrices\u001b[0;34m(formula_like, data, eval_env, NA_action, return_type)\u001b[0m\n\u001b[1;32m    308\u001b[0m     \u001b[0meval_env\u001b[0m \u001b[0;34m=\u001b[0m \u001b[0mEvalEnvironment\u001b[0m\u001b[0;34m.\u001b[0m\u001b[0mcapture\u001b[0m\u001b[0;34m(\u001b[0m\u001b[0meval_env\u001b[0m\u001b[0;34m,\u001b[0m \u001b[0mreference\u001b[0m\u001b[0;34m=\u001b[0m\u001b[0;36m1\u001b[0m\u001b[0;34m)\u001b[0m\u001b[0;34m\u001b[0m\u001b[0m\n\u001b[1;32m    309\u001b[0m     (lhs, rhs) = _do_highlevel_design(formula_like, data, eval_env,\n\u001b[0;32m--> 310\u001b[0;31m                                       NA_action, return_type)\n\u001b[0m\u001b[1;32m    311\u001b[0m     \u001b[0;32mif\u001b[0m \u001b[0mlhs\u001b[0m\u001b[0;34m.\u001b[0m\u001b[0mshape\u001b[0m\u001b[0;34m[\u001b[0m\u001b[0;36m1\u001b[0m\u001b[0;34m]\u001b[0m \u001b[0;34m==\u001b[0m \u001b[0;36m0\u001b[0m\u001b[0;34m:\u001b[0m\u001b[0;34m\u001b[0m\u001b[0m\n\u001b[1;32m    312\u001b[0m         \u001b[0;32mraise\u001b[0m \u001b[0mPatsyError\u001b[0m\u001b[0;34m(\u001b[0m\u001b[0;34m\"model is missing required outcome variables\"\u001b[0m\u001b[0;34m)\u001b[0m\u001b[0;34m\u001b[0m\u001b[0m\n",
      "\u001b[0;32m/Users/reemtahir/anaconda/lib/python2.7/site-packages/patsy/highlevel.pyc\u001b[0m in \u001b[0;36m_do_highlevel_design\u001b[0;34m(formula_like, data, eval_env, NA_action, return_type)\u001b[0m\n\u001b[1;32m    163\u001b[0m         \u001b[0;32mreturn\u001b[0m \u001b[0miter\u001b[0m\u001b[0;34m(\u001b[0m\u001b[0;34m[\u001b[0m\u001b[0mdata\u001b[0m\u001b[0;34m]\u001b[0m\u001b[0;34m)\u001b[0m\u001b[0;34m\u001b[0m\u001b[0m\n\u001b[1;32m    164\u001b[0m     design_infos = _try_incr_builders(formula_like, data_iter_maker, eval_env,\n\u001b[0;32m--> 165\u001b[0;31m                                       NA_action)\n\u001b[0m\u001b[1;32m    166\u001b[0m     \u001b[0;32mif\u001b[0m \u001b[0mdesign_infos\u001b[0m \u001b[0;32mis\u001b[0m \u001b[0;32mnot\u001b[0m \u001b[0mNone\u001b[0m\u001b[0;34m:\u001b[0m\u001b[0;34m\u001b[0m\u001b[0m\n\u001b[1;32m    167\u001b[0m         return build_design_matrices(design_infos, data,\n",
      "\u001b[0;32m/Users/reemtahir/anaconda/lib/python2.7/site-packages/patsy/highlevel.pyc\u001b[0m in \u001b[0;36m_try_incr_builders\u001b[0;34m(formula_like, data_iter_maker, eval_env, NA_action)\u001b[0m\n\u001b[1;32m     68\u001b[0m                                       \u001b[0mdata_iter_maker\u001b[0m\u001b[0;34m,\u001b[0m\u001b[0;34m\u001b[0m\u001b[0m\n\u001b[1;32m     69\u001b[0m                                       \u001b[0meval_env\u001b[0m\u001b[0;34m,\u001b[0m\u001b[0;34m\u001b[0m\u001b[0m\n\u001b[0;32m---> 70\u001b[0;31m                                       NA_action)\n\u001b[0m\u001b[1;32m     71\u001b[0m     \u001b[0;32melse\u001b[0m\u001b[0;34m:\u001b[0m\u001b[0;34m\u001b[0m\u001b[0m\n\u001b[1;32m     72\u001b[0m         \u001b[0;32mreturn\u001b[0m \u001b[0mNone\u001b[0m\u001b[0;34m\u001b[0m\u001b[0m\n",
      "\u001b[0;32m/Users/reemtahir/anaconda/lib/python2.7/site-packages/patsy/build.pyc\u001b[0m in \u001b[0;36mdesign_matrix_builders\u001b[0;34m(termlists, data_iter_maker, eval_env, NA_action)\u001b[0m\n\u001b[1;32m    694\u001b[0m                                                    \u001b[0mfactor_states\u001b[0m\u001b[0;34m,\u001b[0m\u001b[0;34m\u001b[0m\u001b[0m\n\u001b[1;32m    695\u001b[0m                                                    \u001b[0mdata_iter_maker\u001b[0m\u001b[0;34m,\u001b[0m\u001b[0;34m\u001b[0m\u001b[0m\n\u001b[0;32m--> 696\u001b[0;31m                                                    NA_action)\n\u001b[0m\u001b[1;32m    697\u001b[0m     \u001b[0;31m# Now we need the factor infos, which encapsulate the knowledge of\u001b[0m\u001b[0;34m\u001b[0m\u001b[0;34m\u001b[0m\u001b[0m\n\u001b[1;32m    698\u001b[0m     \u001b[0;31m# how to turn any given factor into a chunk of data:\u001b[0m\u001b[0;34m\u001b[0m\u001b[0;34m\u001b[0m\u001b[0m\n",
      "\u001b[0;32m/Users/reemtahir/anaconda/lib/python2.7/site-packages/patsy/build.pyc\u001b[0m in \u001b[0;36m_examine_factor_types\u001b[0;34m(factors, factor_states, data_iter_maker, NA_action)\u001b[0m\n\u001b[1;32m    441\u001b[0m     \u001b[0;32mfor\u001b[0m \u001b[0mdata\u001b[0m \u001b[0;32min\u001b[0m \u001b[0mdata_iter_maker\u001b[0m\u001b[0;34m(\u001b[0m\u001b[0;34m)\u001b[0m\u001b[0;34m:\u001b[0m\u001b[0;34m\u001b[0m\u001b[0m\n\u001b[1;32m    442\u001b[0m         \u001b[0;32mfor\u001b[0m \u001b[0mfactor\u001b[0m \u001b[0;32min\u001b[0m \u001b[0mlist\u001b[0m\u001b[0;34m(\u001b[0m\u001b[0mexamine_needed\u001b[0m\u001b[0;34m)\u001b[0m\u001b[0;34m:\u001b[0m\u001b[0;34m\u001b[0m\u001b[0m\n\u001b[0;32m--> 443\u001b[0;31m             \u001b[0mvalue\u001b[0m \u001b[0;34m=\u001b[0m \u001b[0mfactor\u001b[0m\u001b[0;34m.\u001b[0m\u001b[0meval\u001b[0m\u001b[0;34m(\u001b[0m\u001b[0mfactor_states\u001b[0m\u001b[0;34m[\u001b[0m\u001b[0mfactor\u001b[0m\u001b[0;34m]\u001b[0m\u001b[0;34m,\u001b[0m \u001b[0mdata\u001b[0m\u001b[0;34m)\u001b[0m\u001b[0;34m\u001b[0m\u001b[0m\n\u001b[0m\u001b[1;32m    444\u001b[0m             \u001b[0;32mif\u001b[0m \u001b[0mfactor\u001b[0m \u001b[0;32min\u001b[0m \u001b[0mcat_sniffers\u001b[0m \u001b[0;32mor\u001b[0m \u001b[0mguess_categorical\u001b[0m\u001b[0;34m(\u001b[0m\u001b[0mvalue\u001b[0m\u001b[0;34m)\u001b[0m\u001b[0;34m:\u001b[0m\u001b[0;34m\u001b[0m\u001b[0m\n\u001b[1;32m    445\u001b[0m                 \u001b[0;32mif\u001b[0m \u001b[0mfactor\u001b[0m \u001b[0;32mnot\u001b[0m \u001b[0;32min\u001b[0m \u001b[0mcat_sniffers\u001b[0m\u001b[0;34m:\u001b[0m\u001b[0;34m\u001b[0m\u001b[0m\n",
      "\u001b[0;32m/Users/reemtahir/anaconda/lib/python2.7/site-packages/patsy/eval.pyc\u001b[0m in \u001b[0;36meval\u001b[0;34m(self, memorize_state, data)\u001b[0m\n\u001b[1;32m    564\u001b[0m         return self._eval(memorize_state[\"eval_code\"],\n\u001b[1;32m    565\u001b[0m                           \u001b[0mmemorize_state\u001b[0m\u001b[0;34m,\u001b[0m\u001b[0;34m\u001b[0m\u001b[0m\n\u001b[0;32m--> 566\u001b[0;31m                           data)\n\u001b[0m\u001b[1;32m    567\u001b[0m \u001b[0;34m\u001b[0m\u001b[0m\n\u001b[1;32m    568\u001b[0m     \u001b[0m__getstate__\u001b[0m \u001b[0;34m=\u001b[0m \u001b[0mno_pickling\u001b[0m\u001b[0;34m\u001b[0m\u001b[0m\n",
      "\u001b[0;32m/Users/reemtahir/anaconda/lib/python2.7/site-packages/patsy/eval.pyc\u001b[0m in \u001b[0;36m_eval\u001b[0;34m(self, code, memorize_state, data)\u001b[0m\n\u001b[1;32m    549\u001b[0m                                  \u001b[0mmemorize_state\u001b[0m\u001b[0;34m[\u001b[0m\u001b[0;34m\"eval_env\"\u001b[0m\u001b[0;34m]\u001b[0m\u001b[0;34m.\u001b[0m\u001b[0meval\u001b[0m\u001b[0;34m,\u001b[0m\u001b[0;34m\u001b[0m\u001b[0m\n\u001b[1;32m    550\u001b[0m                                  \u001b[0mcode\u001b[0m\u001b[0;34m,\u001b[0m\u001b[0;34m\u001b[0m\u001b[0m\n\u001b[0;32m--> 551\u001b[0;31m                                  inner_namespace=inner_namespace)\n\u001b[0m\u001b[1;32m    552\u001b[0m \u001b[0;34m\u001b[0m\u001b[0m\n\u001b[1;32m    553\u001b[0m     \u001b[0;32mdef\u001b[0m \u001b[0mmemorize_chunk\u001b[0m\u001b[0;34m(\u001b[0m\u001b[0mself\u001b[0m\u001b[0;34m,\u001b[0m \u001b[0mstate\u001b[0m\u001b[0;34m,\u001b[0m \u001b[0mwhich_pass\u001b[0m\u001b[0;34m,\u001b[0m \u001b[0mdata\u001b[0m\u001b[0;34m)\u001b[0m\u001b[0;34m:\u001b[0m\u001b[0;34m\u001b[0m\u001b[0m\n",
      "\u001b[0;32m/Users/reemtahir/anaconda/lib/python2.7/site-packages/patsy/compat.pyc\u001b[0m in \u001b[0;36mcall_and_wrap_exc\u001b[0;34m(msg, origin, f, *args, **kwargs)\u001b[0m\n\u001b[1;32m    115\u001b[0m \u001b[0;32mdef\u001b[0m \u001b[0mcall_and_wrap_exc\u001b[0m\u001b[0;34m(\u001b[0m\u001b[0mmsg\u001b[0m\u001b[0;34m,\u001b[0m \u001b[0morigin\u001b[0m\u001b[0;34m,\u001b[0m \u001b[0mf\u001b[0m\u001b[0;34m,\u001b[0m \u001b[0;34m*\u001b[0m\u001b[0margs\u001b[0m\u001b[0;34m,\u001b[0m \u001b[0;34m**\u001b[0m\u001b[0mkwargs\u001b[0m\u001b[0;34m)\u001b[0m\u001b[0;34m:\u001b[0m\u001b[0;34m\u001b[0m\u001b[0m\n\u001b[1;32m    116\u001b[0m     \u001b[0;32mtry\u001b[0m\u001b[0;34m:\u001b[0m\u001b[0;34m\u001b[0m\u001b[0m\n\u001b[0;32m--> 117\u001b[0;31m         \u001b[0;32mreturn\u001b[0m \u001b[0mf\u001b[0m\u001b[0;34m(\u001b[0m\u001b[0;34m*\u001b[0m\u001b[0margs\u001b[0m\u001b[0;34m,\u001b[0m \u001b[0;34m**\u001b[0m\u001b[0mkwargs\u001b[0m\u001b[0;34m)\u001b[0m\u001b[0;34m\u001b[0m\u001b[0m\n\u001b[0m\u001b[1;32m    118\u001b[0m     \u001b[0;32mexcept\u001b[0m \u001b[0mException\u001b[0m \u001b[0;32mas\u001b[0m \u001b[0me\u001b[0m\u001b[0;34m:\u001b[0m\u001b[0;34m\u001b[0m\u001b[0m\n\u001b[1;32m    119\u001b[0m         \u001b[0;32mif\u001b[0m \u001b[0msys\u001b[0m\u001b[0;34m.\u001b[0m\u001b[0mversion_info\u001b[0m\u001b[0;34m[\u001b[0m\u001b[0;36m0\u001b[0m\u001b[0;34m]\u001b[0m \u001b[0;34m>=\u001b[0m \u001b[0;36m3\u001b[0m\u001b[0;34m:\u001b[0m\u001b[0;34m\u001b[0m\u001b[0m\n",
      "\u001b[0;32m/Users/reemtahir/anaconda/lib/python2.7/site-packages/patsy/eval.pyc\u001b[0m in \u001b[0;36meval\u001b[0;34m(self, expr, source_name, inner_namespace)\u001b[0m\n\u001b[1;32m    164\u001b[0m         \u001b[0mcode\u001b[0m \u001b[0;34m=\u001b[0m \u001b[0mcompile\u001b[0m\u001b[0;34m(\u001b[0m\u001b[0mexpr\u001b[0m\u001b[0;34m,\u001b[0m \u001b[0msource_name\u001b[0m\u001b[0;34m,\u001b[0m \u001b[0;34m\"eval\"\u001b[0m\u001b[0;34m,\u001b[0m \u001b[0mself\u001b[0m\u001b[0;34m.\u001b[0m\u001b[0mflags\u001b[0m\u001b[0;34m,\u001b[0m \u001b[0mFalse\u001b[0m\u001b[0;34m)\u001b[0m\u001b[0;34m\u001b[0m\u001b[0m\n\u001b[1;32m    165\u001b[0m         return eval(code, {}, VarLookupDict([inner_namespace]\n\u001b[0;32m--> 166\u001b[0;31m                                             + self._namespaces))\n\u001b[0m\u001b[1;32m    167\u001b[0m \u001b[0;34m\u001b[0m\u001b[0m\n\u001b[1;32m    168\u001b[0m     \u001b[0;34m@\u001b[0m\u001b[0mclassmethod\u001b[0m\u001b[0;34m\u001b[0m\u001b[0m\n",
      "\u001b[0;32m<string>\u001b[0m in \u001b[0;36m<module>\u001b[0;34m()\u001b[0m\n",
      "\u001b[0;31mNameError\u001b[0m: name 'Take_out' is not defined"
     ]
    }
   ],
   "source": [
    "y, X = patsy.dmatrices(formula, data=biz_wide, return_type='dataframe')\n",
    "y = np.ravel(y)\n",
    "#Whyyy?? The error below says it's the variable name that is undefined, when I took out the variable\n",
    "#it kept asking me to remove more and more until I didn't have any left."
   ]
  },
  {
   "cell_type": "code",
   "execution_count": 98,
   "metadata": {
    "collapsed": false,
    "scrolled": true
   },
   "outputs": [
    {
     "ename": "NameError",
     "evalue": "name 'X' is not defined",
     "output_type": "error",
     "traceback": [
      "\u001b[0;31m---------------------------------------------------------------------------\u001b[0m",
      "\u001b[0;31mNameError\u001b[0m                                 Traceback (most recent call last)",
      "\u001b[0;32m<ipython-input-98-21f8d9bfd55e>\u001b[0m in \u001b[0;36m<module>\u001b[0;34m()\u001b[0m\n\u001b[1;32m      1\u001b[0m \u001b[0;31m#Sklearn\u001b[0m\u001b[0;34m\u001b[0m\u001b[0;34m\u001b[0m\u001b[0m\n\u001b[1;32m      2\u001b[0m \u001b[0mss\u001b[0m \u001b[0;34m=\u001b[0m \u001b[0mStandardScaler\u001b[0m\u001b[0;34m(\u001b[0m\u001b[0;34m)\u001b[0m\u001b[0;34m\u001b[0m\u001b[0m\n\u001b[0;32m----> 3\u001b[0;31m \u001b[0mXn\u001b[0m \u001b[0;34m=\u001b[0m \u001b[0mss\u001b[0m\u001b[0;34m.\u001b[0m\u001b[0mfit_transform\u001b[0m\u001b[0;34m(\u001b[0m\u001b[0mX\u001b[0m\u001b[0;34m)\u001b[0m\u001b[0;34m\u001b[0m\u001b[0m\n\u001b[0m",
      "\u001b[0;31mNameError\u001b[0m: name 'X' is not defined"
     ]
    }
   ],
   "source": [
    "#Sklearn\n",
    "ss = StandardScaler()\n",
    "Xn = ss.fit_transform(X) \n",
    "'''\n",
    "This is awful. Since the patsy formula is problematic, I couldn't define my variables y and X.\n",
    "This means the rest of my attempts with Sklearn will not work.\n",
    "I looked back at class notes and didn't see a problem with my code (I literally copy and pasted it).\n",
    "I will put in the code I think is appropriate hoping I will at least get partial credit for the attempt\n",
    "and for my logical reasoning.\n",
    "'''\n"
   ]
  },
  {
   "cell_type": "code",
   "execution_count": 102,
   "metadata": {
    "collapsed": false,
    "scrolled": false
   },
   "outputs": [
    {
     "ename": "NameError",
     "evalue": "name 'Xn' is not defined",
     "output_type": "error",
     "traceback": [
      "\u001b[0;31m---------------------------------------------------------------------------\u001b[0m",
      "\u001b[0;31mNameError\u001b[0m                                 Traceback (most recent call last)",
      "\u001b[0;32m<ipython-input-102-b3a276e7bc74>\u001b[0m in \u001b[0;36m<module>\u001b[0;34m()\u001b[0m\n\u001b[1;32m      9\u001b[0m \u001b[0mknn_gs\u001b[0m \u001b[0;34m=\u001b[0m \u001b[0mGridSearchCV\u001b[0m\u001b[0;34m(\u001b[0m\u001b[0mknn\u001b[0m\u001b[0;34m,\u001b[0m \u001b[0mparams\u001b[0m\u001b[0;34m,\u001b[0m \u001b[0mcv\u001b[0m\u001b[0;34m=\u001b[0m\u001b[0;36m4\u001b[0m\u001b[0;34m,\u001b[0m \u001b[0mverbose\u001b[0m\u001b[0;34m=\u001b[0m\u001b[0;36m1\u001b[0m\u001b[0;34m)\u001b[0m\u001b[0;34m\u001b[0m\u001b[0m\n\u001b[1;32m     10\u001b[0m \u001b[0;34m\u001b[0m\u001b[0m\n\u001b[0;32m---> 11\u001b[0;31m \u001b[0mresults\u001b[0m \u001b[0;34m=\u001b[0m \u001b[0mknn_gs\u001b[0m\u001b[0;34m.\u001b[0m\u001b[0mfit\u001b[0m\u001b[0;34m(\u001b[0m\u001b[0mXn\u001b[0m\u001b[0;34m,\u001b[0m \u001b[0my\u001b[0m\u001b[0;34m)\u001b[0m\u001b[0;34m\u001b[0m\u001b[0m\n\u001b[0m",
      "\u001b[0;31mNameError\u001b[0m: name 'Xn' is not defined"
     ]
    }
   ],
   "source": [
    "#K-neighbors classifier\n",
    "params = {\n",
    "    'n_neighbors':range(1,20),\n",
    "    'weights':['uniform','distance']\n",
    "}\n",
    "\n",
    "knn = KNeighborsClassifier()\n",
    "#GridsearchCv\n",
    "knn_gs = GridSearchCV(knn, params, cv=4, verbose=1)\n",
    "\n",
    "results = knn_gs.fit(Xn, y)"
   ]
  },
  {
   "cell_type": "code",
   "execution_count": 104,
   "metadata": {
    "collapsed": false
   },
   "outputs": [
    {
     "ename": "NameError",
     "evalue": "name 'Xn' is not defined",
     "output_type": "error",
     "traceback": [
      "\u001b[0;31m---------------------------------------------------------------------------\u001b[0m",
      "\u001b[0;31mNameError\u001b[0m                                 Traceback (most recent call last)",
      "\u001b[0;32m<ipython-input-104-6268b7227280>\u001b[0m in \u001b[0;36m<module>\u001b[0;34m()\u001b[0m\n\u001b[0;32m----> 1\u001b[0;31m \u001b[0mscores\u001b[0m \u001b[0;34m=\u001b[0m \u001b[0mcross_val_score\u001b[0m\u001b[0;34m(\u001b[0m\u001b[0mknn_gs\u001b[0m\u001b[0;34m,\u001b[0m \u001b[0mXn\u001b[0m\u001b[0;34m,\u001b[0m \u001b[0my\u001b[0m\u001b[0;34m,\u001b[0m \u001b[0mcv\u001b[0m\u001b[0;34m=\u001b[0m\u001b[0;36m20\u001b[0m\u001b[0;34m)\u001b[0m\u001b[0;34m\u001b[0m\u001b[0m\n\u001b[0m\u001b[1;32m      2\u001b[0m \u001b[0;32mprint\u001b[0m \u001b[0mscores\u001b[0m\u001b[0;34m\u001b[0m\u001b[0m\n\u001b[1;32m      3\u001b[0m \u001b[0;32mprint\u001b[0m \u001b[0;34m\"Cross-validated scores mean:\"\u001b[0m\u001b[0;34m,\u001b[0m \u001b[0msum\u001b[0m\u001b[0;34m(\u001b[0m\u001b[0mscores\u001b[0m\u001b[0;34m)\u001b[0m\u001b[0;34m/\u001b[0m\u001b[0mlen\u001b[0m\u001b[0;34m(\u001b[0m\u001b[0mscores\u001b[0m\u001b[0;34m)\u001b[0m\u001b[0;34m\u001b[0m\u001b[0m\n\u001b[1;32m      4\u001b[0m \u001b[0;34m\u001b[0m\u001b[0m\n\u001b[1;32m      5\u001b[0m \u001b[0;34m\u001b[0m\u001b[0m\n",
      "\u001b[0;31mNameError\u001b[0m: name 'Xn' is not defined"
     ]
    }
   ],
   "source": [
    "scores = cross_val_score(knn_gs, Xn, y, cv=20)\n",
    "print scores\n",
    "print \"Cross-validated scores mean:\", sum(scores)/len(scores)\n",
    "\n",
    "\n",
    "predictions = cross_val_predict(knn_gs, Xn, y, cv=20)\n",
    "\n",
    "\n",
    "accuracy = metrics.r2_score(y, predictions)\n",
    "\n",
    "print \"Cross-Predicted Accuracy:\", accuracy"
   ]
  },
  {
   "cell_type": "code",
   "execution_count": 107,
   "metadata": {
    "collapsed": false,
    "scrolled": true
   },
   "outputs": [
    {
     "ename": "NameError",
     "evalue": "name 'results' is not defined",
     "output_type": "error",
     "traceback": [
      "\u001b[0;31m---------------------------------------------------------------------------\u001b[0m",
      "\u001b[0;31mNameError\u001b[0m                                 Traceback (most recent call last)",
      "\u001b[0;32m<ipython-input-107-61b1fb2fa35e>\u001b[0m in \u001b[0;36m<module>\u001b[0;34m()\u001b[0m\n\u001b[1;32m     19\u001b[0m     \u001b[0mplt\u001b[0m\u001b[0;34m.\u001b[0m\u001b[0mlegend\u001b[0m\u001b[0;34m(\u001b[0m\u001b[0mloc\u001b[0m\u001b[0;34m=\u001b[0m\u001b[0;34m\"lower right\"\u001b[0m\u001b[0;34m)\u001b[0m\u001b[0;34m\u001b[0m\u001b[0m\n\u001b[1;32m     20\u001b[0m     \u001b[0mplt\u001b[0m\u001b[0;34m.\u001b[0m\u001b[0mshow\u001b[0m\u001b[0;34m(\u001b[0m\u001b[0;34m)\u001b[0m\u001b[0;34m\u001b[0m\u001b[0m\n\u001b[0;32m---> 21\u001b[0;31m \u001b[0mpredicted\u001b[0m \u001b[0;34m=\u001b[0m \u001b[0mpd\u001b[0m\u001b[0;34m.\u001b[0m\u001b[0mDataFrame\u001b[0m\u001b[0;34m(\u001b[0m\u001b[0mresults\u001b[0m\u001b[0;34m.\u001b[0m\u001b[0mbest_estimator_\u001b[0m\u001b[0;34m.\u001b[0m\u001b[0mpredict_proba\u001b[0m\u001b[0;34m(\u001b[0m\u001b[0mXn\u001b[0m\u001b[0;34m)\u001b[0m\u001b[0;34m)\u001b[0m\u001b[0;34m\u001b[0m\u001b[0m\n\u001b[0m\u001b[1;32m     22\u001b[0m \u001b[0mplot_roc\u001b[0m\u001b[0;34m(\u001b[0m\u001b[0my\u001b[0m\u001b[0;34m,\u001b[0m \u001b[0mpredicted\u001b[0m\u001b[0;34m[\u001b[0m\u001b[0;36m1\u001b[0m\u001b[0;34m]\u001b[0m\u001b[0;34m)\u001b[0m\u001b[0;34m\u001b[0m\u001b[0m\n",
      "\u001b[0;31mNameError\u001b[0m: name 'results' is not defined"
     ]
    }
   ],
   "source": [
    "def plot_roc(true_y, predicted_y):\n",
    "\n",
    "    # Get out the predicted probabilities for the X observation matrix\n",
    "    # y_pp = knn_gs.predict_proba(Xn)\n",
    "\n",
    "    # roc_curve returns the false positive rate and true positive rates as the threshold changes\n",
    "    # takes in the y and the predicted probabilities of the positive class from your model.\n",
    "    fpr, tpr, _ = roc_curve(true_y, predicted_y)\n",
    "    roc_auc = auc(fpr, tpr)\n",
    "\n",
    "    plt.figure(figsize=[9,9])\n",
    "    plt.plot(fpr, tpr, label='ROC curve (area = %0.2f)' % roc_auc, linewidth=4)\n",
    "    plt.plot([0, 1], [0, 1], 'k--', linewidth=4)\n",
    "    plt.xlim([0.0, 1.0])\n",
    "    plt.ylim([0.0, 1.05])\n",
    "    plt.xlabel('False Positive Rate', fontsize=16)\n",
    "    plt.ylabel('True Positive Rate', fontsize=16)\n",
    "    plt.title('Receiver operating characteristic curve', fontsize=20)\n",
    "    plt.legend(loc=\"lower right\")\n",
    "    plt.show()\n",
    "predicted = pd.DataFrame(results.best_estimator_.predict_proba(Xn))\n",
    "plot_roc(y, predicted[1])"
   ]
  },
  {
   "cell_type": "markdown",
   "metadata": {},
   "source": [
    "<img src=\"http://imgur.com/l5NasQj.png\" style=\"float: left; margin: 25px 15px 0px 0px; height: 25px\">\n",
    "\n",
    "## 3. Different categories of ratings\n",
    "\n",
    "---\n",
    "\n",
    "Yelp is finally ready to admit that their rating system sucks. No one cares about the ratings, they just use the site to find out what's nearby. The ratings are simply too unreliable for people. \n",
    "\n",
    "Yelp hypothesizes that this is, in fact, because different people tend to give their ratings based on different things. They believe that perhaps some people always base their ratings on quality of food, others on service, and perhaps other categories as well. \n",
    "\n",
    "1. Do some users tend to talk about service more than others in reviews/tips? Divide up the tips/reviews into more \"service-focused\" ones and those less concerned with service.\n",
    "2. Create two new ratings for businesses: ratings from just the service-focused reviews and ratings from the non-service reviews.\n",
    "3. Construct a regression model for each of the two ratings. They should use the same predictor variables (of your choice). \n",
    "4. Validate the performance of the models.\n",
    "5. Do the models coefficients differ at all? What does this tell you about the hypothesis that there are in fact two different kinds of ratings?"
   ]
  },
  {
   "cell_type": "code",
   "execution_count": 110,
   "metadata": {
    "collapsed": false
   },
   "outputs": [],
   "source": [
    "#Reviews SQL table\n",
    "df.dropna(axis=0, how='any', thresh=None, subset=None, inplace=True)"
   ]
  },
  {
   "cell_type": "code",
   "execution_count": 111,
   "metadata": {
    "collapsed": false,
    "scrolled": true
   },
   "outputs": [
    {
     "data": {
      "text/html": [
       "<div>\n",
       "<table border=\"1\" class=\"dataframe\">\n",
       "  <thead>\n",
       "    <tr style=\"text-align: right;\">\n",
       "      <th></th>\n",
       "      <th>user_id</th>\n",
       "      <th>review_id</th>\n",
       "      <th>votes_cool</th>\n",
       "      <th>business_id</th>\n",
       "      <th>votes_funny</th>\n",
       "      <th>stars</th>\n",
       "      <th>date</th>\n",
       "      <th>votes_useful</th>\n",
       "      <th>minutes_10</th>\n",
       "      <th>minutes_15</th>\n",
       "      <th>...</th>\n",
       "      <th>service_great</th>\n",
       "      <th>staff_friendly</th>\n",
       "      <th>super_friendly</th>\n",
       "      <th>sweet_potato</th>\n",
       "      <th>tasted_like</th>\n",
       "      <th>time_vegas</th>\n",
       "      <th>try_place</th>\n",
       "      <th>ve_seen</th>\n",
       "      <th>ve_tried</th>\n",
       "      <th>wait_staff</th>\n",
       "    </tr>\n",
       "  </thead>\n",
       "  <tbody>\n",
       "    <tr>\n",
       "      <th>0</th>\n",
       "      <td>-ZWUL1xfFP-WA9iS87S8hQ</td>\n",
       "      <td>UOQie6_QAJ8hjceRYk5BXg</td>\n",
       "      <td>0</td>\n",
       "      <td>P7wKlbSRsoRrfH3DFOY08A</td>\n",
       "      <td>0</td>\n",
       "      <td>1</td>\n",
       "      <td>2014-09-08</td>\n",
       "      <td>0</td>\n",
       "      <td>0</td>\n",
       "      <td>0</td>\n",
       "      <td>...</td>\n",
       "      <td>0</td>\n",
       "      <td>0</td>\n",
       "      <td>0</td>\n",
       "      <td>0</td>\n",
       "      <td>0</td>\n",
       "      <td>0</td>\n",
       "      <td>0</td>\n",
       "      <td>0</td>\n",
       "      <td>0</td>\n",
       "      <td>0</td>\n",
       "    </tr>\n",
       "    <tr>\n",
       "      <th>1</th>\n",
       "      <td>lqXbPv5vlD5fu0TU_71AGQ</td>\n",
       "      <td>pb0yWYEyXqe80w-rf69NjA</td>\n",
       "      <td>0</td>\n",
       "      <td>oCA2OZcd_Jo_ggVmUx3WVw</td>\n",
       "      <td>0</td>\n",
       "      <td>1</td>\n",
       "      <td>2014-11-28</td>\n",
       "      <td>0</td>\n",
       "      <td>0</td>\n",
       "      <td>0</td>\n",
       "      <td>...</td>\n",
       "      <td>0</td>\n",
       "      <td>0</td>\n",
       "      <td>0</td>\n",
       "      <td>0</td>\n",
       "      <td>0</td>\n",
       "      <td>0</td>\n",
       "      <td>0</td>\n",
       "      <td>0</td>\n",
       "      <td>0</td>\n",
       "      <td>0</td>\n",
       "    </tr>\n",
       "  </tbody>\n",
       "</table>\n",
       "<p>2 rows × 108 columns</p>\n",
       "</div>"
      ],
      "text/plain": [
       "                  user_id               review_id  votes_cool  \\\n",
       "0  -ZWUL1xfFP-WA9iS87S8hQ  UOQie6_QAJ8hjceRYk5BXg           0   \n",
       "1  lqXbPv5vlD5fu0TU_71AGQ  pb0yWYEyXqe80w-rf69NjA           0   \n",
       "\n",
       "              business_id  votes_funny stars        date  votes_useful  \\\n",
       "0  P7wKlbSRsoRrfH3DFOY08A            0     1  2014-09-08             0   \n",
       "1  oCA2OZcd_Jo_ggVmUx3WVw            0     1  2014-11-28             0   \n",
       "\n",
       "   minutes_10  minutes_15     ...      service_great staff_friendly  \\\n",
       "0           0           0     ...                  0              0   \n",
       "1           0           0     ...                  0              0   \n",
       "\n",
       "   super_friendly  sweet_potato  tasted_like  time_vegas  try_place  ve_seen  \\\n",
       "0               0             0            0           0          0        0   \n",
       "1               0             0            0           0          0        0   \n",
       "\n",
       "   ve_tried  wait_staff  \n",
       "0         0           0  \n",
       "1         0           0  \n",
       "\n",
       "[2 rows x 108 columns]"
      ]
     },
     "execution_count": 111,
     "metadata": {},
     "output_type": "execute_result"
    }
   ],
   "source": [
    "df.head(2) #Let's see what we're dealing with"
   ]
  },
  {
   "cell_type": "code",
   "execution_count": 116,
   "metadata": {
    "collapsed": false,
    "scrolled": true
   },
   "outputs": [
    {
     "name": "stdout",
     "output_type": "stream",
     "text": [
      "<class 'pandas.core.frame.DataFrame'>\n",
      "Int64Index: 2500 entries, 0 to 2499\n",
      "Columns: 108 entries, user_id to wait_staff\n",
      "dtypes: int64(102), object(6)\n",
      "memory usage: 2.1+ MB\n"
     ]
    }
   ],
   "source": [
    "df.info()"
   ]
  },
  {
   "cell_type": "code",
   "execution_count": 117,
   "metadata": {
    "collapsed": false
   },
   "outputs": [
    {
     "data": {
      "text/plain": [
       "Index([u'user_id', u'review_id', u'votes_cool', u'business_id', u'votes_funny',\n",
       "       u'stars', u'date', u'votes_useful', u'minutes_10', u'minutes_15',\n",
       "       ...\n",
       "       u'service_great', u'staff_friendly', u'super_friendly', u'sweet_potato',\n",
       "       u'tasted_like', u'time_vegas', u'try_place', u've_seen', u've_tried',\n",
       "       u'wait_staff'],\n",
       "      dtype='object', length=108)"
      ]
     },
     "execution_count": 117,
     "metadata": {},
     "output_type": "execute_result"
    }
   ],
   "source": [
    "df.columns"
   ]
  },
  {
   "cell_type": "code",
   "execution_count": null,
   "metadata": {
    "collapsed": false,
    "scrolled": true
   },
   "outputs": [],
   "source": [
    "columns = list(df.columns.values)\n",
    "print columns\n",
    "\n",
    "#What things predict well whether a user is elite or not:\n",
    "service_list = []\n",
    "for rev in columns:\n",
    "    if 'service' in rev: \n",
    "        service_list.append(rev)\n",
    "    elif 'stars' in rev:\n",
    "        service_list.append(rev)\n",
    "    else:\n",
    "        pass\n",
    "    \n",
    "        \n",
    "print service_list"
   ]
  },
  {
   "cell_type": "code",
   "execution_count": null,
   "metadata": {
    "collapsed": true
   },
   "outputs": [],
   "source": [
    "y = df.stars\n",
    "df = pd.DataFrame(df.data, columns=boston.feature_names)"
   ]
  },
  {
   "cell_type": "code",
   "execution_count": null,
   "metadata": {
    "collapsed": true
   },
   "outputs": [],
   "source": [
    "#EDA\n",
    "full_data = df\n",
    "full_data['stars'] = y\n",
    "\n",
    "sns.pairplot(full_data)\n",
    "plt.show()"
   ]
  },
  {
   "cell_type": "code",
   "execution_count": null,
   "metadata": {
    "collapsed": false
   },
   "outputs": [],
   "source": [
    "def correlation_heat_map(df):\n",
    "    corrs = df.corr()\n",
    "\n",
    "    # Set the default matplotlib figure size:\n",
    "    fig, ax = plt.subplots(figsize=(12,12))\n",
    "\n",
    "    # Generate a mask for the upper triangle (taken from seaborn example gallery)\n",
    "    mask = np.zeros_like(corrs, dtype=np.bool)\n",
    "    mask[np.triu_indices_from(mask)] = True\n",
    "\n",
    "    # Plot the heatmap with seaborn.\n",
    "    # Assign the matplotlib axis the function returns. This will let us resize the labels.\n",
    "    ax = sns.heatmap(corrs, mask=mask, annot=True)\n",
    "\n",
    "    # Resize the labels.\n",
    "    ax.set_xticklabels(ax.xaxis.get_ticklabels(), fontsize=14, rotation=30)\n",
    "    ax.set_yticklabels(ax.yaxis.get_ticklabels(), fontsize=14, rotation=0)\n",
    "\n",
    "    # If you put plt.show() at the bottom, it prevents those useless printouts from matplotlib.\n",
    "    plt.show()\n",
    "    \n",
    "correlation_heat_map(full_data)"
   ]
  },
  {
   "cell_type": "code",
   "execution_count": null,
   "metadata": {
    "collapsed": true
   },
   "outputs": [],
   "source": [
    "X_train, X_test, y_train, y_test = train_test_split(X, y, test_size=0.3)\n",
    "print X_train.shape, y_train.shape\n",
    "print X_test.shape, y_test.shape"
   ]
  },
  {
   "cell_type": "markdown",
   "metadata": {},
   "source": [
    "<img src=\"http://imgur.com/l5NasQj.png\" style=\"float: left; margin: 25px 15px 0px 0px; height: 25px\">\n",
    "\n",
    "## 4. Identifying \"elite\" users\n",
    "\n",
    "---\n",
    "\n",
    "Yelp, though having their own formula for determining whether a user is elite or not, is interested in delving deeper into what differentiates an elite user from a normal user at a broader level.\n",
    "\n",
    "Use a classification model to predict whether a user is elite or not. Note that users can be elite in some years and not in others.\n",
    "\n",
    "1. What things predict well whether a user is elite or not?\n",
    "- Validate the model.\n",
    "- If you were to remove the \"counts\" metrics for users (reviews, votes, compliments), what distinguishes an elite user, if anything? Validate the model and compare it to the one with the count variables.\n",
    "- Think of a way to visually represent your results in a compelling way.\n",
    "- Give a brief write-up of your findings."
   ]
  },
  {
   "cell_type": "code",
   "execution_count": null,
   "metadata": {
    "collapsed": true
   },
   "outputs": [],
   "source": [
    "users.dropna(axis=0, how='any', thresh=None, subset=None, inplace=True)\n",
    "\n",
    "users.shape"
   ]
  },
  {
   "cell_type": "code",
   "execution_count": null,
   "metadata": {
    "collapsed": true
   },
   "outputs": [],
   "source": [
    "def count_elite(x):\n",
    "    #Counts the number of years when user was elite\n",
    "    return len(x.split())\n",
    "    \n",
    "\n",
    "\n",
    "users['elite_counts'] = users['elite'].map(count_elite)"
   ]
  },
  {
   "cell_type": "code",
   "execution_count": null,
   "metadata": {
    "collapsed": true
   },
   "outputs": [],
   "source": [
    "def years(x):\n",
    "    #calculates how many years user has been yelping\n",
    "    years = x.split('-')\n",
    "    year = int(years[0])\n",
    "    return (2016 - year)\n",
    "\n",
    "users['yelping_years'] = users['yelping_since'].map(years)"
   ]
  },
  {
   "cell_type": "markdown",
   "metadata": {},
   "source": [
    "<img src=\"http://imgur.com/GCAf1UX.png\" style=\"float: left; margin: 25px 15px 0px 0px; height: 25px\">\n",
    "\n",
    "## 5. Find something interesting on your own\n",
    "\n",
    "---\n",
    "\n",
    "You want to impress your superiors at Yelp by doing some investigation into the data on your own. You want to do classification, but you're not sure on what.\n",
    "\n",
    "1. Create a hypothesis or hypotheses about the data based on whatever you are interested in, as long as it is predicting a category of some kind (classification).\n",
    "2. Explore the data visually (ideally related to this hypothesis).\n",
    "3. Build one or more classification models to predict your target variable. **Your modeling should include gridsearching to find optimal model parameters.**\n",
    "4. Evaluate the performance of your model. Explain why your model may have chosen those specific parameters during the gridsearch process.\n",
    "5. Write up what the model tells you. Does it validate or invalidate your hypothesis? Write this up as if for a non-technical audience."
   ]
  },
  {
   "cell_type": "code",
   "execution_count": null,
   "metadata": {
    "collapsed": true
   },
   "outputs": [],
   "source": []
  },
  {
   "cell_type": "markdown",
   "metadata": {},
   "source": [
    "<img src=\"http://imgur.com/GCAf1UX.png\" style=\"float: left; margin: 25px 15px 0px 0px; height: 25px\">\n",
    "\n",
    "## 6. ROC and Precision-recall\n",
    "\n",
    "---\n",
    "\n",
    "Some categories have fewer overall businesses than others. Choose two categories of businesses to predict, one that makes your proportion of target classes as even as possible, and another that has very few businesses and thus makes the target varible imbalanced.\n",
    "\n",
    "1. Create two classification models predicting these categories. Optimize the models and choose variables as you see fit.\n",
    "- Make confusion matrices for your models. Describe the confusion matrices and explain what they tell you about your models' performance.\n",
    "- Make ROC curves for both models. What do the ROC curves describe and what do they tell you about your model?\n",
    "- Make Precision-Recall curves for the models. What do they describe? How do they compare to the ROC curves?\n",
    "- Explain when Precision-Recall may be preferable to ROC. Is that the case in either of your models?"
   ]
  },
  {
   "cell_type": "code",
   "execution_count": null,
   "metadata": {
    "collapsed": true
   },
   "outputs": [],
   "source": []
  }
 ],
 "metadata": {
  "anaconda-cloud": {},
  "kernelspec": {
   "display_name": "Python [conda root]",
   "language": "python",
   "name": "conda-root-py"
  },
  "language_info": {
   "codemirror_mode": {
    "name": "ipython",
    "version": 2
   },
   "file_extension": ".py",
   "mimetype": "text/x-python",
   "name": "python",
   "nbconvert_exporter": "python",
   "pygments_lexer": "ipython2",
   "version": "2.7.12"
  }
 },
 "nbformat": 4,
 "nbformat_minor": 0
}
